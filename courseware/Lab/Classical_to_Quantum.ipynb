{
 "cells": [
  {
   "cell_type": "code",
   "execution_count": null,
   "metadata": {
    "collapsed": true,
    "pycharm": {
     "name": "#%%\n"
    }
   },
   "outputs": [],
   "source": [
    "\"\"\"\n",
    "Author: Riley Peterlinz\n",
    "\"\"\"\n",
    "\n",
    "import numpy as np\n",
    "import sympy as sp\n",
    "\n",
    "from qiskit import QuantumCircuit, assemble, Aer\n",
    "from qiskit.visualization import plot_histogram\n",
    "from qiskit.tools.visualization import circuit_drawer, array_to_latex\n",
    "from qiskit import QuantumRegister, ClassicalRegister, QuantumCircuit\n",
    "import qiskit.quantum_info as qi\n",
    "from qiskit.quantum_info import Statevector\n",
    "\n",
    "# We begin by declaring a simulator for our circuit to run on\n",
    "sim = Aer.get_backend('aer_simulator')"
   ]
  },
  {
   "cell_type": "markdown",
   "source": [
    "# Built-Out Functions"
   ],
   "metadata": {
    "collapsed": false,
    "pycharm": {
     "name": "#%% md\n"
    }
   }
  },
  {
   "cell_type": "code",
   "execution_count": null,
   "outputs": [],
   "source": [
    "def get_attributes(qc):\n",
    "    \"\"\"\n",
    "    Given a quantum circuit, output the statevector and unitary of the circuit\n",
    "    \"\"\"\n",
    "    qc_state = qc.remove_final_measurements(inplace=False).copy()\n",
    "    qc_unitary = qc.remove_final_measurements(inplace=False).copy()\n",
    "\n",
    "    qc_state.save_statevector()\n",
    "    qvector = assemble(qc_state)\n",
    "    state_vector = sim.run(qvector).result().get_statevector()\n",
    "\n",
    "    qc_unitary.save_unitary()\n",
    "    qunitary = assemble(qc_unitary)\n",
    "    unitary = sim.run(qunitary).result().get_unitary()\n",
    "\n",
    "    return state_vector, unitary"
   ],
   "metadata": {
    "collapsed": false,
    "pycharm": {
     "name": "#%%\n"
    }
   }
  },
  {
   "cell_type": "markdown",
   "source": [
    "# NOT Gate"
   ],
   "metadata": {
    "collapsed": false,
    "pycharm": {
     "name": "#%% md\n"
    }
   }
  },
  {
   "cell_type": "markdown",
   "source": [
    "## Circuit"
   ],
   "metadata": {
    "collapsed": false,
    "pycharm": {
     "name": "#%% md\n"
    }
   }
  },
  {
   "cell_type": "code",
   "execution_count": null,
   "outputs": [],
   "source": [
    "qin = QuantumRegister(1, 'in')\n",
    "qout = QuantumRegister(1, 'out')\n",
    "cr = ClassicalRegister(1, 'cr')\n",
    "qc = QuantumCircuit(qin, qout, cr)\n",
    "\n",
    "qc.h(qin[0])\n",
    "\n",
    "qc.barrier()\n",
    "qc.cx(qin[0], qout[0])\n",
    "qc.x(qout[0])\n",
    "\n",
    "qc.barrier()\n",
    "qc.measure(qout[0], cr[0])\n",
    "\n",
    "state_vector, unitary = get_attributes(qc)\n",
    "qc.draw(output = \"mpl\", scale = 2)"
   ],
   "metadata": {
    "collapsed": false,
    "pycharm": {
     "name": "#%%\n"
    }
   }
  },
  {
   "cell_type": "markdown",
   "source": [
    "## Display Statevector and Unitary"
   ],
   "metadata": {
    "collapsed": false,
    "pycharm": {
     "name": "#%% md\n"
    }
   }
  },
  {
   "cell_type": "code",
   "execution_count": null,
   "outputs": [],
   "source": [
    "display(array_to_latex(state_vector, prefix=\"\\\\text{Statevector} = \", max_size=30))\n",
    "display(Statevector(state_vector).draw('latex'))\n",
    "display(array_to_latex(unitary, prefix=\"\\\\text{Circuit = } \", max_size=30))"
   ],
   "metadata": {
    "collapsed": false,
    "pycharm": {
     "name": "#%%\n"
    }
   }
  },
  {
   "cell_type": "markdown",
   "source": [
    "## Simulated Probabilities"
   ],
   "metadata": {
    "collapsed": false,
    "pycharm": {
     "name": "#%% md\n"
    }
   }
  },
  {
   "cell_type": "code",
   "execution_count": null,
   "outputs": [],
   "source": [
    "# We run the simulator with sim.run(QUANTUM CIRCUIT) and we get the resulting values with .result()\n",
    "result = sim.run(qc, shots=10000).result()\n",
    "\n",
    "# We then collect the results using .get_counts()\n",
    "counts = result.get_counts()\n",
    "\n",
    "# Visualization\n",
    "plot_histogram(counts)"
   ],
   "metadata": {
    "collapsed": false,
    "pycharm": {
     "name": "#%%\n"
    }
   }
  },
  {
   "cell_type": "markdown",
   "source": [
    "# XOR Gate"
   ],
   "metadata": {
    "collapsed": false,
    "pycharm": {
     "name": "#%% md\n"
    }
   }
  },
  {
   "cell_type": "markdown",
   "source": [
    "## Circuit"
   ],
   "metadata": {
    "collapsed": false,
    "pycharm": {
     "name": "#%% md\n"
    }
   }
  },
  {
   "cell_type": "code",
   "execution_count": null,
   "outputs": [],
   "source": [
    "qin = QuantumRegister(2, 'in')\n",
    "qout = QuantumRegister(1, 'out')\n",
    "cr = ClassicalRegister(1, 'cr')\n",
    "qc = QuantumCircuit(qin, qout, cr)\n",
    "\n",
    "qc.h(qin[0])\n",
    "qc.h(qin[1])\n",
    "\n",
    "qc.barrier()\n",
    "qc.cx(qin[0], qout[0])\n",
    "qc.cx(qin[1], qout[0])\n",
    "\n",
    "qc.barrier()\n",
    "qc.measure(qout[0], cr[0])\n",
    "\n",
    "state_vector, unitary = get_attributes(qc)\n",
    "qc.draw(output = \"mpl\", scale = 2)"
   ],
   "metadata": {
    "collapsed": false,
    "pycharm": {
     "name": "#%%\n"
    }
   }
  },
  {
   "cell_type": "markdown",
   "source": [
    "## Display Statevector and Unitary"
   ],
   "metadata": {
    "collapsed": false,
    "pycharm": {
     "name": "#%% md\n"
    }
   }
  },
  {
   "cell_type": "code",
   "execution_count": null,
   "outputs": [],
   "source": [
    "display(array_to_latex(state_vector, prefix=\"\\\\text{Statevector} = \", max_size=30))\n",
    "display(Statevector(state_vector).draw('latex'))\n",
    "display(array_to_latex(unitary, prefix=\"\\\\text{Circuit = } \", max_size=30))"
   ],
   "metadata": {
    "collapsed": false,
    "pycharm": {
     "name": "#%%\n"
    }
   }
  },
  {
   "cell_type": "markdown",
   "source": [
    "## Simulated Probabilities"
   ],
   "metadata": {
    "collapsed": false,
    "pycharm": {
     "name": "#%% md\n"
    }
   }
  },
  {
   "cell_type": "code",
   "execution_count": null,
   "outputs": [],
   "source": [
    "# We run the simulator with sim.run(QUANTUM CIRCUIT) and we get the resulting values with .result()\n",
    "result = sim.run(qc, shots=10000).result()\n",
    "\n",
    "# We then collect the results using .get_counts()\n",
    "counts = result.get_counts()\n",
    "\n",
    "# Visualization\n",
    "plot_histogram(counts)"
   ],
   "metadata": {
    "collapsed": false,
    "pycharm": {
     "name": "#%%\n"
    }
   }
  },
  {
   "cell_type": "markdown",
   "source": [
    "# AND Gate"
   ],
   "metadata": {
    "collapsed": false,
    "pycharm": {
     "name": "#%% md\n"
    }
   }
  },
  {
   "cell_type": "markdown",
   "source": [
    "## Circuit"
   ],
   "metadata": {
    "collapsed": false,
    "pycharm": {
     "name": "#%% md\n"
    }
   }
  },
  {
   "cell_type": "code",
   "execution_count": null,
   "outputs": [],
   "source": [
    "qin = QuantumRegister(2, 'in')\n",
    "qout = QuantumRegister(1, 'out')\n",
    "cr = ClassicalRegister(1, 'cr')\n",
    "qc = QuantumCircuit(qin, qout, cr)\n",
    "\n",
    "qc.h(qin[0])\n",
    "qc.h(qin[1])\n",
    "\n",
    "qc.barrier()\n",
    "qc.ccx(qin[0], qin[1], qout[0])\n",
    "\n",
    "qc.barrier()\n",
    "qc.measure(qout[0], cr[0])\n",
    "\n",
    "state_vector, unitary = get_attributes(qc)\n",
    "qc.draw(output = \"mpl\", scale = 2)"
   ],
   "metadata": {
    "collapsed": false,
    "pycharm": {
     "name": "#%%\n"
    }
   }
  },
  {
   "cell_type": "markdown",
   "source": [
    "## Display Statevector and Unitary"
   ],
   "metadata": {
    "collapsed": false,
    "pycharm": {
     "name": "#%% md\n"
    }
   }
  },
  {
   "cell_type": "code",
   "execution_count": null,
   "outputs": [],
   "source": [
    "display(array_to_latex(state_vector, prefix=\"\\\\text{Statevector} = \", max_size=30))\n",
    "display(Statevector(state_vector).draw('latex'))\n",
    "display(array_to_latex(unitary, prefix=\"\\\\text{Circuit = } \", max_size=30))"
   ],
   "metadata": {
    "collapsed": false,
    "pycharm": {
     "name": "#%%\n"
    }
   }
  },
  {
   "cell_type": "markdown",
   "source": [
    "## Simulated Probabilities"
   ],
   "metadata": {
    "collapsed": false,
    "pycharm": {
     "name": "#%% md\n"
    }
   }
  },
  {
   "cell_type": "code",
   "execution_count": null,
   "outputs": [],
   "source": [
    "# We run the simulator with sim.run(QUANTUM CIRCUIT) and we get the resulting values with .result()\n",
    "result = sim.run(qc, shots=10000).result()\n",
    "\n",
    "# We then collect the results using .get_counts()\n",
    "counts = result.get_counts()\n",
    "\n",
    "# Visualization\n",
    "plot_histogram(counts)"
   ],
   "metadata": {
    "collapsed": false,
    "pycharm": {
     "name": "#%%\n"
    }
   }
  },
  {
   "cell_type": "markdown",
   "source": [
    "# OR Gate"
   ],
   "metadata": {
    "collapsed": false,
    "pycharm": {
     "name": "#%% md\n"
    }
   }
  },
  {
   "cell_type": "markdown",
   "source": [
    "## Circuit"
   ],
   "metadata": {
    "collapsed": false,
    "pycharm": {
     "name": "#%% md\n"
    }
   }
  },
  {
   "cell_type": "code",
   "execution_count": null,
   "outputs": [],
   "source": [
    "qin = QuantumRegister(2, 'in')\n",
    "qout = QuantumRegister(1, 'out')\n",
    "cr = ClassicalRegister(1, 'cr')\n",
    "qc = QuantumCircuit(qin, qout, cr)\n",
    "\n",
    "qc.h(qin[0])\n",
    "qc.h(qin[1])\n",
    "\n",
    "qc.barrier()\n",
    "qc.cx(qin[0], qout[0])\n",
    "qc.cx(qin[1], qout[0])\n",
    "qc.ccx(qin[0], qin[1], qout[0])\n",
    "\n",
    "qc.barrier()\n",
    "qc.measure(qout[0], cr[0])\n",
    "\n",
    "state_vector, unitary = get_attributes(qc)\n",
    "qc.draw(output = \"mpl\", scale = 2)"
   ],
   "metadata": {
    "collapsed": false,
    "pycharm": {
     "name": "#%%\n"
    }
   }
  },
  {
   "cell_type": "markdown",
   "source": [
    "## Display Statevector and Unitary"
   ],
   "metadata": {
    "collapsed": false,
    "pycharm": {
     "name": "#%% md\n"
    }
   }
  },
  {
   "cell_type": "code",
   "execution_count": null,
   "outputs": [],
   "source": [
    "display(array_to_latex(state_vector, prefix=\"\\\\text{Statevector} = \", max_size=30))\n",
    "display(Statevector(state_vector).draw('latex'))\n",
    "display(array_to_latex(unitary, prefix=\"\\\\text{Circuit = } \", max_size=30))"
   ],
   "metadata": {
    "collapsed": false,
    "pycharm": {
     "name": "#%%\n"
    }
   }
  },
  {
   "cell_type": "markdown",
   "source": [
    "## Simulated Probabilities"
   ],
   "metadata": {
    "collapsed": false,
    "pycharm": {
     "name": "#%% md\n"
    }
   }
  },
  {
   "cell_type": "code",
   "execution_count": null,
   "outputs": [],
   "source": [
    "# We run the simulator with sim.run(QUANTUM CIRCUIT) and we get the resulting values with .result()\n",
    "result = sim.run(qc, shots=10000).result()\n",
    "\n",
    "# We then collect the results using .get_counts()\n",
    "counts = result.get_counts()\n",
    "\n",
    "# Visualization\n",
    "plot_histogram(counts)"
   ],
   "metadata": {
    "collapsed": false,
    "pycharm": {
     "name": "#%%\n"
    }
   }
  },
  {
   "cell_type": "markdown",
   "source": [
    "# Half-Adder"
   ],
   "metadata": {
    "collapsed": false,
    "pycharm": {
     "name": "#%% md\n"
    }
   }
  },
  {
   "cell_type": "markdown",
   "source": [
    "## Circuit"
   ],
   "metadata": {
    "collapsed": false,
    "pycharm": {
     "name": "#%% md\n"
    }
   }
  },
  {
   "cell_type": "code",
   "execution_count": null,
   "outputs": [],
   "source": [
    "qin = QuantumRegister(2, 'in')\n",
    "qout = QuantumRegister(2, 'out')\n",
    "cr = ClassicalRegister(2, 'cr')\n",
    "qc = QuantumCircuit(qin, qout, cr)\n",
    "\n",
    "qc.h(qin[0])\n",
    "qc.h(qin[1])\n",
    "\n",
    "qc.barrier()\n",
    "qc.cx(qin[0], qout[0])\n",
    "qc.cx(qin[1], qout[0])\n",
    "qc.ccx(qin[0], qin[1], qout[1])\n",
    "\n",
    "qc.barrier()\n",
    "qc.measure(qout[0:2], cr[0:2])\n",
    "\n",
    "state_vector, unitary = get_attributes(qc)\n",
    "qc.draw(output = \"mpl\", scale = 2)"
   ],
   "metadata": {
    "collapsed": false,
    "pycharm": {
     "name": "#%%\n"
    }
   }
  },
  {
   "cell_type": "markdown",
   "source": [
    "## Display Statevector and Unitary"
   ],
   "metadata": {
    "collapsed": false,
    "pycharm": {
     "name": "#%% md\n"
    }
   }
  },
  {
   "cell_type": "code",
   "execution_count": null,
   "outputs": [],
   "source": [
    "display(array_to_latex(state_vector, prefix=\"\\\\text{Statevector} = \", max_size=30))\n",
    "display(Statevector(state_vector).draw('latex'))\n",
    "display(array_to_latex(unitary, prefix=\"\\\\text{Circuit = } \", max_size=30))"
   ],
   "metadata": {
    "collapsed": false,
    "pycharm": {
     "name": "#%%\n"
    }
   }
  },
  {
   "cell_type": "markdown",
   "source": [
    "## Simulated Probabilities"
   ],
   "metadata": {
    "collapsed": false,
    "pycharm": {
     "name": "#%% md\n"
    }
   }
  },
  {
   "cell_type": "code",
   "execution_count": null,
   "outputs": [],
   "source": [
    "# We run the simulator with sim.run(QUANTUM CIRCUIT) and we get the resulting values with .result()\n",
    "result = sim.run(qc, shots=10000).result()\n",
    "\n",
    "# We then collect the results using .get_counts()\n",
    "counts = result.get_counts()\n",
    "\n",
    "# Visualization\n",
    "plot_histogram(counts)"
   ],
   "metadata": {
    "collapsed": false,
    "pycharm": {
     "name": "#%%\n"
    }
   }
  },
  {
   "cell_type": "markdown",
   "source": [
    "# Full-Adder"
   ],
   "metadata": {
    "collapsed": false,
    "pycharm": {
     "name": "#%% md\n"
    }
   }
  },
  {
   "cell_type": "markdown",
   "source": [
    "## Circuit"
   ],
   "metadata": {
    "collapsed": false,
    "pycharm": {
     "name": "#%% md\n"
    }
   }
  },
  {
   "cell_type": "code",
   "execution_count": null,
   "outputs": [],
   "source": [
    "qin = QuantumRegister(3, 'in')\n",
    "qout = QuantumRegister(2, 'out')\n",
    "cr = ClassicalRegister(2, 'cr')\n",
    "qc = QuantumCircuit(qin, qout, cr)\n",
    "\n",
    "qc.h(qin[0:3])\n",
    "\n",
    "qc.barrier()\n",
    "qc.cx(qin[0], qout[0])\n",
    "qc.cx(qin[1], qout[0])\n",
    "qc.cx(qin[2], qout[0])\n",
    "\n",
    "qc.ccx(qin[0], qin[1], qout[1])\n",
    "qc.ccx(qin[1], qin[2], qout[1])\n",
    "qc.ccx(qin[0], qin[2], qout[1])\n",
    "\n",
    "qc.barrier()\n",
    "qc.measure(qout[0:2], cr[0:2])\n",
    "\n",
    "state_vector, unitary = get_attributes(qc)\n",
    "qc.draw(output = \"mpl\", scale = 2)"
   ],
   "metadata": {
    "collapsed": false,
    "pycharm": {
     "name": "#%%\n"
    }
   }
  },
  {
   "cell_type": "markdown",
   "source": [
    "## Display Statevector and Unitary"
   ],
   "metadata": {
    "collapsed": false,
    "pycharm": {
     "name": "#%% md\n"
    }
   }
  },
  {
   "cell_type": "code",
   "execution_count": null,
   "outputs": [],
   "source": [
    "from qiskit.quantum_info import Statevector\n",
    "\n",
    "display(array_to_latex(state_vector, prefix=\"\\\\text{Statevector} = \", max_size=32))\n",
    "display(Statevector(state_vector).draw('latex'))\n",
    "display(array_to_latex(unitary, prefix=\"\\\\text{Circuit = } \", max_size=32))"
   ],
   "metadata": {
    "collapsed": false,
    "pycharm": {
     "name": "#%%\n"
    }
   }
  },
  {
   "cell_type": "markdown",
   "source": [
    "## Simulated Probabilities"
   ],
   "metadata": {
    "collapsed": false,
    "pycharm": {
     "name": "#%% md\n"
    }
   }
  },
  {
   "cell_type": "code",
   "execution_count": null,
   "outputs": [],
   "source": [
    "# We run the simulator with sim.run(QUANTUM CIRCUIT) and we get the resulting values with .result()\n",
    "result = sim.run(qc, shots=10000).result()\n",
    "\n",
    "# We then collect the results using .get_counts()\n",
    "counts = result.get_counts()\n",
    "\n",
    "# Visualization\n",
    "plot_histogram(counts)"
   ],
   "metadata": {
    "collapsed": false,
    "pycharm": {
     "name": "#%%\n"
    }
   }
  },
  {
   "cell_type": "code",
   "execution_count": null,
   "outputs": [],
   "source": [],
   "metadata": {
    "collapsed": false,
    "pycharm": {
     "name": "#%%\n"
    }
   }
  }
 ],
 "metadata": {
  "kernelspec": {
   "display_name": "Python 3",
   "language": "python",
   "name": "python3"
  },
  "language_info": {
   "codemirror_mode": {
    "name": "ipython",
    "version": 2
   },
   "file_extension": ".py",
   "mimetype": "text/x-python",
   "name": "python",
   "nbconvert_exporter": "python",
   "pygments_lexer": "ipython2",
   "version": "2.7.6"
  }
 },
 "nbformat": 4,
 "nbformat_minor": 0
}